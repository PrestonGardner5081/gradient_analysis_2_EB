{
 "cells": [
  {
   "cell_type": "markdown",
   "metadata": {},
   "source": [
    "# Human connectivity embedding"
   ]
  },
  {
   "cell_type": "code",
   "execution_count": 20,
   "metadata": {
    "collapsed": true
   },
   "outputs": [],
   "source": [
    "import numpy as np\n",
    "\n",
    "# Load affinitity matrix\n",
    "aff = np.load('gradient_data/conn_matrices/cosine_affinity.npy')"
   ]
  },
  {
   "cell_type": "code",
   "execution_count": 21,
   "metadata": {
    "collapsed": true
   },
   "outputs": [],
   "source": [
    "import sys\n",
    "sys.path.append(\"../topography/utils_py/mapalign\")\n",
    "from mapalign import embed\n",
    "\n",
    "emb, res = embed.compute_diffusion_map(aff, alpha = 0.5, return_result = True)"
   ]
  },
  {
   "cell_type": "code",
   "execution_count": 22,
   "metadata": {
    "collapsed": true
   },
   "outputs": [],
   "source": [
    "# Save results\n",
    "np.save('gradient_data/embedded/embedding_dense_emb.npy', emb)\n",
    "np.save('gradient_data/embedded/embedding_dense_res.npy', res)"
   ]
  },
  {
   "cell_type": "code",
   "execution_count": 23,
   "metadata": {
    "collapsed": false
   },
   "outputs": [
    {
     "data": {
      "text/plain": [
       "400"
      ]
     },
     "execution_count": 23,
     "metadata": {},
     "output_type": "execute_result"
    }
   ],
   "source": [
    "import numpy as np\n",
    "res = np.load('gradient_data/embedded/embedding_dense_res.npy').item()\n",
    "vectors = res['vectors']\n",
    "a = [vectors[:, i] / vectors[:, 0] for i in range(vectors.shape[1])]\n",
    "emb = np.array(a)[1:,:].T\n",
    "len(emb)"
   ]
  },
  {
   "cell_type": "markdown",
   "metadata": {},
   "source": [
    "## Export to cifti space"
   ]
  },
  {
   "cell_type": "code",
   "execution_count": 24,
   "metadata": {
    "collapsed": false
   },
   "outputs": [],
   "source": [
    "import nibabel as nib\n",
    "import numpy as np"
   ]
  },
  {
   "cell_type": "code",
   "execution_count": 25,
   "metadata": {
    "collapsed": false
   },
   "outputs": [
    {
     "name": "stderr",
     "output_type": "stream",
     "text": [
      "pixdim[1,2,3] should be non-zero; setting 0 dims to 1\n",
      "pixdim[1,2,3] should be non-zero; setting 0 dims to 1\n"
     ]
    }
   ],
   "source": [
    "cifti_img = nib.load('gradient_data/templates/hcp.tmp.lh.dscalar.nii')\n",
    "res = cifti_img.get_fdata()\n",
    "cortL = np.squeeze(np.array(np.where(res != 0)[0], dtype=np.int32))\n",
    "\n",
    "cifti_img = nib.load('gradient_data/templates/hcp.tmp.rh.dscalar.nii')\n",
    "res = cifti_img.get_fdata()\n",
    "cortR = np.squeeze(np.array(np.where(res != 0)[0], dtype=np.int32))\n",
    "\n",
    "cortLen = len(cortL) + len(cortR)\n",
    "del res\n",
    "# save out cortR and cortL in gradient_data/templates/\n"
   ]
  },
  {
   "cell_type": "code",
   "execution_count": 26,
   "metadata": {
    "collapsed": false
   },
   "outputs": [],
   "source": [
    "emb = np.load('gradient_data/embedded/embedding_dense_emb.npy')"
   ]
  },
  {
   "cell_type": "code",
   "execution_count": 27,
   "metadata": {
    "collapsed": false
   },
   "outputs": [
    {
     "name": "stderr",
     "output_type": "stream",
     "text": [
      "pixdim[1,2,3] should be non-zero; setting 0 dims to 1\n"
     ]
    },
    {
     "ename": "AttributeError",
     "evalue": "module 'nibabel' has no attribute 'cifti'",
     "output_type": "error",
     "traceback": [
      "\u001b[1;31m---------------------------------------------------------------------------\u001b[0m",
      "\u001b[1;31mAttributeError\u001b[0m                            Traceback (most recent call last)",
      "\u001b[1;32mc:\\Users\\Conne\\Brain Map Shit\\gradient_analysis\\02_embed_connectomes.ipynb Cell 10\u001b[0m line \u001b[0;36m2\n\u001b[0;32m      <a href='vscode-notebook-cell:/c%3A/Users/Conne/Brain%20Map%20Shit/gradient_analysis/02_embed_connectomes.ipynb#X12sZmlsZQ%3D%3D?line=0'>1</a>\u001b[0m tmp \u001b[39m=\u001b[39m nib\u001b[39m.\u001b[39mnifti2\u001b[39m.\u001b[39mload(\u001b[39m'\u001b[39m\u001b[39mgradient_data/templates/100307_tfMRI_MOTOR_level2_hp200_s2.dscalar.nii\u001b[39m\u001b[39m'\u001b[39m)\n\u001b[1;32m----> <a href='vscode-notebook-cell:/c%3A/Users/Conne/Brain%20Map%20Shit/gradient_analysis/02_embed_connectomes.ipynb#X12sZmlsZQ%3D%3D?line=1'>2</a>\u001b[0m tmp_cifti \u001b[39m=\u001b[39m nib\u001b[39m.\u001b[39;49mcifti\u001b[39m.\u001b[39mload(\u001b[39m'\u001b[39m\u001b[39mgradient_data/templates/100307_tfMRI_MOTOR_level2_hp200_s2.dscalar.nii\u001b[39m\u001b[39m'\u001b[39m)\n\u001b[0;32m      <a href='vscode-notebook-cell:/c%3A/Users/Conne/Brain%20Map%20Shit/gradient_analysis/02_embed_connectomes.ipynb#X12sZmlsZQ%3D%3D?line=2'>3</a>\u001b[0m data \u001b[39m=\u001b[39m tmp_cifti\u001b[39m.\u001b[39mdata \u001b[39m*\u001b[39m \u001b[39m0\u001b[39m\n\u001b[0;32m      <a href='vscode-notebook-cell:/c%3A/Users/Conne/Brain%20Map%20Shit/gradient_analysis/02_embed_connectomes.ipynb#X12sZmlsZQ%3D%3D?line=3'>4</a>\u001b[0m data[\u001b[39m0\u001b[39m:\u001b[39m10\u001b[39m,:\u001b[39mlen\u001b[39m(emb)] \u001b[39m=\u001b[39m np\u001b[39m.\u001b[39mreshape(emb\u001b[39m.\u001b[39mT, [\u001b[39m1\u001b[39m, \u001b[39m1\u001b[39m, \u001b[39m1\u001b[39m, \u001b[39m1\u001b[39m] \u001b[39m+\u001b[39m \u001b[39mlist\u001b[39m(emb\u001b[39m.\u001b[39mT\u001b[39m.\u001b[39mshape))\n",
      "\u001b[1;31mAttributeError\u001b[0m: module 'nibabel' has no attribute 'cifti'"
     ]
    }
   ],
   "source": [
    "tmp = nib.nifti2.load('gradient_data/templates/100307_tfMRI_MOTOR_level2_hp200_s2.dscalar.nii')\n",
    "tmp_cifti = nib.cifti.load('gradient_data/templates/100307_tfMRI_MOTOR_level2_hp200_s2.dscalar.nii')\n",
    "data = tmp_cifti.data * 0\n",
    "data[0:10,:len(emb)] = np.reshape(emb.T, [1, 1, 1, 1] + list(emb.T.shape))\n",
    "tmp2 = nib.nifti2.Nifti2Image(data, tmp.get_affine())\n",
    "tmp4 = nib.nifti2.create_cifti_image(tmp2, tmp_cifti.header.to_xml(), np.array(3006, dtype=np.int32))\n",
    "tmp4.to_filename('gradient_data/embedded/ciftis/hcp.embed.dscalar.nii')"
   ]
  },
  {
   "cell_type": "markdown",
   "metadata": {},
   "source": [
    "# Macaque connectivity embedding"
   ]
  },
  {
   "cell_type": "code",
   "execution_count": null,
   "metadata": {
    "collapsed": true
   },
   "outputs": [],
   "source": [
    "import sys\n",
    "sys.path.append(\"../topography/utils_py/mapalign\")\n",
    "from mapalign import embed\n",
    "    \n",
    "def embed_macaque(mat_name):\n",
    "    \n",
    "    aff = np.load('gradient_data/conn_matrices/macaque_%s_conn.npy' % mat_name)\n",
    "    print np.shape(aff)\n",
    "    emb, res = embed.compute_diffusion_map(aff, alpha = 0.5)\n",
    "    np.save('gradient_data/conn_matrices/macaque_%s_emb.npy' % mat_name, emb)\n",
    "    np.save('gradient_data/conn_matrices/macaque_%s_res.npy' % mat_name, res)"
   ]
  },
  {
   "cell_type": "code",
   "execution_count": null,
   "metadata": {
    "collapsed": false
   },
   "outputs": [
    {
     "name": "stdout",
     "output_type": "stream",
     "text": [
      "(25, 25)\n"
     ]
    }
   ],
   "source": [
    "embed_macaque('bb47')"
   ]
  },
  {
   "cell_type": "code",
   "execution_count": null,
   "metadata": {
    "collapsed": true
   },
   "outputs": [],
   "source": []
  }
 ],
 "metadata": {
  "kernelspec": {
   "display_name": "Python 3",
   "language": "python",
   "name": "python3"
  },
  "language_info": {
   "codemirror_mode": {
    "name": "ipython",
    "version": 3
   },
   "file_extension": ".py",
   "mimetype": "text/x-python",
   "name": "python",
   "nbconvert_exporter": "python",
   "pygments_lexer": "ipython3",
   "version": "3.11.6"
  }
 },
 "nbformat": 4,
 "nbformat_minor": 0
}
