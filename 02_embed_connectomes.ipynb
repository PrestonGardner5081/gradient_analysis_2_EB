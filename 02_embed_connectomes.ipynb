{
 "cells": [
  {
   "cell_type": "markdown",
   "metadata": {},
   "source": [
    "# Human connectivity embedding"
   ]
  },
  {
   "cell_type": "code",
   "execution_count": 6,
   "metadata": {
    "collapsed": true
   },
   "outputs": [],
   "source": [
    "import numpy as np\n",
    "\n",
    "# Load affinitity matrix\n",
    "aff = np.load('gradient_data/conn_matrices/cosine_affinity.npy')"
   ]
  },
  {
   "cell_type": "code",
   "execution_count": 8,
   "metadata": {
    "collapsed": true
   },
   "outputs": [
    {
     "ename": "ModuleNotFoundError",
     "evalue": "No module named 'sklearn.manifold.spectral_embedding_'",
     "output_type": "error",
     "traceback": [
      "\u001b[1;31m---------------------------------------------------------------------------\u001b[0m",
      "\u001b[1;31mModuleNotFoundError\u001b[0m                       Traceback (most recent call last)",
      "\u001b[1;32mc:\\Users\\Conne\\Brain Map Shit\\gradient_analysis\\02_embed_connectomes.ipynb Cell 3\u001b[0m line \u001b[0;36m5\n\u001b[0;32m      <a href='vscode-notebook-cell:/c%3A/Users/Conne/Brain%20Map%20Shit/gradient_analysis/02_embed_connectomes.ipynb#W2sZmlsZQ%3D%3D?line=1'>2</a>\u001b[0m \u001b[39m# sys.path.append(\"../topography/utils_py/mapalign\")\u001b[39;00m\n\u001b[0;32m      <a href='vscode-notebook-cell:/c%3A/Users/Conne/Brain%20Map%20Shit/gradient_analysis/02_embed_connectomes.ipynb#W2sZmlsZQ%3D%3D?line=2'>3</a>\u001b[0m \u001b[39mfrom\u001b[39;00m \u001b[39mmapalign\u001b[39;00m \u001b[39mimport\u001b[39;00m embed\n\u001b[1;32m----> <a href='vscode-notebook-cell:/c%3A/Users/Conne/Brain%20Map%20Shit/gradient_analysis/02_embed_connectomes.ipynb#W2sZmlsZQ%3D%3D?line=4'>5</a>\u001b[0m emb, res \u001b[39m=\u001b[39m embed\u001b[39m.\u001b[39;49mcompute_diffusion_map(aff, alpha \u001b[39m=\u001b[39;49m \u001b[39m0.5\u001b[39;49m)\n",
      "File \u001b[1;32m~\\AppData\\Local\\Packages\\PythonSoftwareFoundation.Python.3.11_qbz5n2kfra8p0\\LocalCache\\local-packages\\Python311\\site-packages\\mapalign\\embed.py:73\u001b[0m, in \u001b[0;36mcompute_diffusion_map\u001b[1;34m(L, alpha, n_components, diffusion_time, skip_checks, overwrite, eigen_solver, return_result)\u001b[0m\n\u001b[0;32m     71\u001b[0m \u001b[39mif\u001b[39;00m \u001b[39mnot\u001b[39;00m skip_checks:\n\u001b[0;32m     72\u001b[0m     \u001b[39mif\u001b[39;00m has_sklearn:\n\u001b[1;32m---> 73\u001b[0m         \u001b[39mfrom\u001b[39;00m \u001b[39msklearn\u001b[39;00m\u001b[39m.\u001b[39;00m\u001b[39mmanifold\u001b[39;00m\u001b[39m.\u001b[39;00m\u001b[39mspectral_embedding_\u001b[39;00m \u001b[39mimport\u001b[39;00m _graph_is_connected\n\u001b[0;32m     74\u001b[0m         \u001b[39mif\u001b[39;00m \u001b[39mnot\u001b[39;00m _graph_is_connected(L):\n\u001b[0;32m     75\u001b[0m             \u001b[39mraise\u001b[39;00m \u001b[39mValueError\u001b[39;00m(\u001b[39m'\u001b[39m\u001b[39mGraph is disconnected\u001b[39m\u001b[39m'\u001b[39m)\n",
      "\u001b[1;31mModuleNotFoundError\u001b[0m: No module named 'sklearn.manifold.spectral_embedding_'"
     ]
    }
   ],
   "source": [
    "import sys\n",
    "sys.path.append(\"../topography/utils_py/mapalign\")\n",
    "from mapalign import embed\n",
    "\n",
    "emb, res = embed.compute_diffusion_map(aff, alpha = 0.5)"
   ]
  },
  {
   "cell_type": "code",
   "execution_count": null,
   "metadata": {
    "collapsed": true
   },
   "outputs": [],
   "source": [
    "# Save results\n",
    "np.save('gradient_data/embedded/embedding_dense_emb.npy', emb)\n",
    "np.save('gradient_data/embedded/embedding_dense_res.npy', res)"
   ]
  },
  {
   "cell_type": "code",
   "execution_count": null,
   "metadata": {
    "collapsed": false
   },
   "outputs": [
    {
     "data": {
      "text/plain": [
       "91282"
      ]
     },
     "execution_count": 1,
     "metadata": {},
     "output_type": "execute_result"
    }
   ],
   "source": [
    "import numpy as np\n",
    "res = np.load('gradient_data/embedded/embedding_dense_res.npy').item()\n",
    "a = [res['vectors'][:,i]/ res['vectors'][:,0] for i in range(302)]\n",
    "emb = np.array(a)[1:,:].T\n",
    "len(emb)"
   ]
  },
  {
   "cell_type": "markdown",
   "metadata": {},
   "source": [
    "## Export to cifti space"
   ]
  },
  {
   "cell_type": "code",
   "execution_count": null,
   "metadata": {
    "collapsed": false
   },
   "outputs": [],
   "source": [
    "import nibabel as nib\n",
    "import numpy as np"
   ]
  },
  {
   "cell_type": "code",
   "execution_count": null,
   "metadata": {
    "collapsed": false
   },
   "outputs": [
    {
     "name": "stderr",
     "output_type": "stream",
     "text": [
      "pixdim[1,2,3] should be non-zero; setting 0 dims to 1\n",
      "pixdim[1,2,3] should be non-zero; setting 0 dims to 1\n"
     ]
    }
   ],
   "source": [
    "res = nib.load('gradient_data/templates/hcp.tmp.lh.dscalar.nii').data\n",
    "cortL = np.squeeze(np.array(np.where(res != 0)[0], dtype=np.int32))\n",
    "res = nib.load('gradient_data/templates/hcp.tmp.rh.dscalar.nii').data\n",
    "cortR = np.squeeze(np.array(np.where(res != 0)[0], dtype=np.int32))\n",
    "cortLen = len(cortL) + len(cortR)\n",
    "del res\n",
    "# save out cortR and cortL in gradient_data/templates/\n"
   ]
  },
  {
   "cell_type": "code",
   "execution_count": null,
   "metadata": {
    "collapsed": false
   },
   "outputs": [],
   "source": [
    "emb = np.load('gradient_data/embedded/embedding_dense_emb.npy')"
   ]
  },
  {
   "cell_type": "code",
   "execution_count": null,
   "metadata": {
    "collapsed": false
   },
   "outputs": [
    {
     "name": "stderr",
     "output_type": "stream",
     "text": [
      "pixdim[1,2,3] should be non-zero; setting 0 dims to 1\n",
      "pixdim[1,2,3] should be non-zero; setting 0 dims to 1\n"
     ]
    }
   ],
   "source": [
    "tmp = nib.nifti2.load('gradient_data/templates/100307_tfMRI_MOTOR_level2_hp200_s2.dscalar.nii')\n",
    "tmp_cifti = nib.cifti.load('gradient_data/templates/100307_tfMRI_MOTOR_level2_hp200_s2.dscalar.nii')\n",
    "data = tmp_cifti.data * 0\n",
    "data[0:10,:len(emb)] = np.reshape(emb.T, [1, 1, 1, 1] + list(emb.T.shape))\n",
    "tmp2 = nib.nifti2.Nifti2Image(data, tmp.get_affine())\n",
    "tmp4 = nib.nifti2.create_cifti_image(tmp2, tmp_cifti.header.to_xml(), np.array(3006, dtype=np.int32))\n",
    "tmp4.to_filename('gradient_data/embedded/ciftis/hcp.embed.dscalar.nii')"
   ]
  },
  {
   "cell_type": "markdown",
   "metadata": {},
   "source": [
    "# Macaque connectivity embedding"
   ]
  },
  {
   "cell_type": "code",
   "execution_count": null,
   "metadata": {
    "collapsed": true
   },
   "outputs": [],
   "source": [
    "import sys\n",
    "sys.path.append(\"../topography/utils_py/mapalign\")\n",
    "from mapalign import embed\n",
    "    \n",
    "def embed_macaque(mat_name):\n",
    "    \n",
    "    aff = np.load('gradient_data/conn_matrices/macaque_%s_conn.npy' % mat_name)\n",
    "    print np.shape(aff)\n",
    "    emb, res = embed.compute_diffusion_map(aff, alpha = 0.5)\n",
    "    np.save('gradient_data/conn_matrices/macaque_%s_emb.npy' % mat_name, emb)\n",
    "    np.save('gradient_data/conn_matrices/macaque_%s_res.npy' % mat_name, res)"
   ]
  },
  {
   "cell_type": "code",
   "execution_count": null,
   "metadata": {
    "collapsed": false
   },
   "outputs": [
    {
     "name": "stdout",
     "output_type": "stream",
     "text": [
      "(25, 25)\n"
     ]
    }
   ],
   "source": [
    "embed_macaque('bb47')"
   ]
  },
  {
   "cell_type": "code",
   "execution_count": null,
   "metadata": {
    "collapsed": true
   },
   "outputs": [],
   "source": []
  }
 ],
 "metadata": {
  "kernelspec": {
   "display_name": "Python 3",
   "language": "python",
   "name": "python3"
  },
  "language_info": {
   "codemirror_mode": {
    "name": "ipython",
    "version": 3
   },
   "file_extension": ".py",
   "mimetype": "text/x-python",
   "name": "python",
   "nbconvert_exporter": "python",
   "pygments_lexer": "ipython3",
   "version": "3.11.6"
  }
 },
 "nbformat": 4,
 "nbformat_minor": 0
}
